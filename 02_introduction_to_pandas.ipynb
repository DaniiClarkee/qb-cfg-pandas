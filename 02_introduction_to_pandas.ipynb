{
 "cells": [
  {
   "cell_type": "markdown",
   "metadata": {},
   "source": [
    "# Pandas is a library the helps you work with data as tables\n",
    "\n",
    "- You've just described something as a 'library' what do you mean by that?\n",
    "- So far you've been using what's called the 'standard library' i.e. the bells and whilstes thrown into Python out of the box. This inludes basic building blocks such as `sum()`, `list()` and even some more complex librares like `random`\n",
    "- A library allows you to reuse code someone else has kindly written for you\n",
    "- It allows you to 'stand on the shoulders of giants'\n",
    "- The library ecosystem is one of the reasons Python is so popular today\n",
    "- Some libraries are incuded in Python out of the box, others can be installed via `pip` and you can also make your own!\n",
    "\n",
    "## [Q1] What will the cell below do?"
   ]
  },
  {
   "cell_type": "code",
   "execution_count": null,
   "metadata": {},
   "outputs": [],
   "source": [
    "import random\n",
    "random.randint(1,100)"
   ]
  },
  {
   "cell_type": "markdown",
   "metadata": {},
   "source": [
    "# Introduction to Pandas\n",
    "\n",
    "Unfortunately, `Pandas` is rather unintuintively named after Panel Data which is a concept from econometrics about multidimensional matricies. But actual 🐼s are much more fun.\n",
    "\n",
    "Pandas was originally written by [Wes McKinney](https://en.wikipedia.org/wiki/Wes_McKinney) who was working at a hedge fund and needed a tool to better deal with the time-series data he was working with day to day. It's a great story for a few reasons:\n",
    "\n",
    "1. It's a great example of an open source project going far and beyond what the creator anticipated.\n",
    "2. He's admitted that when he started the project he wasn't very good at Python. \n",
    "3. This amazing tool used by thousands of people was made by 'just some guy'\n",
    "4. This article written a decade later is an honest reflection by McKinney on what he got right and what he didn't:  [\"10 things I hate about Pandas\"](https://wesmckinney.com/blog/apache-arrow-pandas-internals/)\n",
    "\n",
    "<img height=\"42\" src=\"https://pics.onsizzle.com/local-mexican-restaurant-used-to-be-a-chinese-restaurant-instead-58896804.png\" width=300>\n",
    "\n",
    "> This isn't especially relevant, we just like it"
   ]
  },
  {
   "cell_type": "markdown",
   "metadata": {},
   "source": [
    "## How to use Pandas\n",
    "\n",
    "Remember this: **NO ONE WAS BORN KNOWING ALL OF THIS**\n",
    "\n",
    "Everyone was a beginner once (even Wes McKinney) and help is available. The answer to pretty much every Python / Pandas question WILL be online, getting good at Google-Fu is arguably the best skill you can have as a programmer.\n",
    "\n",
    "- The [official documentation](https://pandas.pydata.org/pandas-docs/stable/) is great\n",
    "- But seriously, Google any question and answers will appear: https://www.google.com/search?q=how+do+I+get+the+number+of+rows+pandas\n",
    "\n",
    "\n",
    "### To start using Pandas you need to import it\n",
    "- The code below is very much convention, you don't need to do the `pd` part - but most end up doing so for ease when typing. \n",
    "- Programmers are lazy, remember that's why we care about 'efficiency' - less actual work."
   ]
  },
  {
   "cell_type": "code",
   "execution_count": null,
   "metadata": {},
   "outputs": [],
   "source": [
    "import pandas # you can do this and it's totally fine "
   ]
  },
  {
   "cell_type": "code",
   "execution_count": null,
   "metadata": {},
   "outputs": [],
   "source": [
    "import pandas as pd # most people do this to avoid typing"
   ]
  },
  {
   "cell_type": "code",
   "execution_count": null,
   "metadata": {},
   "outputs": [],
   "source": [
    "pd. #Press tab to see autocomplete "
   ]
  },
  {
   "cell_type": "markdown",
   "metadata": {},
   "source": [
    "# The world runs on Excel\n",
    "\n",
    "- It's on everyones computer\n",
    "- It's not going anywhere\n",
    "- It's in use everywhere from small businesses to Nuclear power plants\n",
    "- Pandas can make your life easy, because it has lots of fancy features built in\n",
    "\n",
    "<img src=https://media.giphy.com/media/r01AEhiPmQsG4/giphy.gif>"
   ]
  },
  {
   "cell_type": "markdown",
   "metadata": {},
   "source": [
    "# Opening a Spreadsheet in Pandas is simple...\n",
    "\n",
    "## [Q2] What do you think `pd.DataFrame.head()` does?"
   ]
  },
  {
   "cell_type": "code",
   "execution_count": null,
   "metadata": {},
   "outputs": [],
   "source": [
    "import pandas as pd\n",
    "excel_df = pd.read_excel('movies.xls', sheet_name='1900s')\n",
    "excel_df.head()"
   ]
  },
  {
   "cell_type": "markdown",
   "metadata": {},
   "source": [
    "## [Q3] How do you think we could preview the last 10 rows?"
   ]
  },
  {
   "cell_type": "code",
   "execution_count": null,
   "metadata": {},
   "outputs": [],
   "source": [
    "# Please complete the rest of this cell"
   ]
  },
  {
   "cell_type": "markdown",
   "metadata": {},
   "source": [
    "# How to filter columns in Pandas\n",
    "\n",
    "- There are a couple of ways to do this\n",
    "- The simplest way is to pass a list of columns to the DataFrame within square brackets `[]`\n",
    "- This is very similar to what you've seen with `List` objects e.g. `[1,2,3,4]`\n",
    "\n",
    "\n",
    "`data_frame[[col1, col2, col3 ...]]`\n",
    "\n",
    "This looks a little funny but the two sets of square brackets are doing different things.\n",
    "1. The first set (outermost) are saying: 'Please provide me with a sequence of column names'\n",
    "2. The second (innermost) set are simply an explicit set of columns to select\n",
    "\n",
    "Run the cell below to select to see it in action"
   ]
  },
  {
   "cell_type": "code",
   "execution_count": null,
   "metadata": {},
   "outputs": [],
   "source": [
    "excel_df[['Title', 'Year']].sample(n=5)"
   ]
  },
  {
   "cell_type": "markdown",
   "metadata": {},
   "source": [
    "It might help to see that the code below is functionally identical..."
   ]
  },
  {
   "cell_type": "code",
   "execution_count": null,
   "metadata": {},
   "outputs": [],
   "source": [
    "columns_to_select = ['Title', 'Year']\n",
    "excel_df[columns_to_select].sample(n=5)"
   ]
  },
  {
   "cell_type": "markdown",
   "metadata": {},
   "source": [
    "## [Q4] Filter the table to just the following columns and show the first 5 rows\n",
    "```python\n",
    "['Title', 'Year', 'Genres', 'Language', 'Country', 'Content Rating', 'Budget', 'IMDB Score']\n",
    "```\n",
    "- Note: You must be explicit, misspelling will give you a `KeyError`\n",
    "- Save the results in the variable `test_df`"
   ]
  },
  {
   "cell_type": "code",
   "execution_count": null,
   "metadata": {},
   "outputs": [],
   "source": [
    "test_df = # Please complete the rest of this cell"
   ]
  },
  {
   "cell_type": "markdown",
   "metadata": {},
   "source": [
    "# How to filter rows in Pandas\n",
    "\n",
    "- If you run the cell below you will see that the selecting of a single column, not a list of columns, looks different...\n",
    "- This is because one column is actually called a `Series` and you can think about it like a vertical list\n",
    "- When you break it down, a DataFrame is just a group of `Series` columns behind the scenes"
   ]
  },
  {
   "cell_type": "code",
   "execution_count": null,
   "metadata": {},
   "outputs": [],
   "source": [
    "test_df['Year']"
   ]
  },
  {
   "cell_type": "markdown",
   "metadata": {},
   "source": [
    "- When you do a comparison against a the `Series`, Pandas will compare every item and return `True` or `False` against every row "
   ]
  },
  {
   "cell_type": "code",
   "execution_count": null,
   "metadata": {},
   "outputs": [],
   "source": [
    "test_df['Year'] == 1920"
   ]
  },
  {
   "cell_type": "markdown",
   "metadata": {},
   "source": [
    "- When you put this within the square brackets of a DataFrame, Pandas will filter to the rows which were `True`"
   ]
  },
  {
   "cell_type": "code",
   "execution_count": null,
   "metadata": {},
   "outputs": [],
   "source": [
    "test_df[test_df['Year'] == 1920]"
   ]
  },
  {
   "cell_type": "markdown",
   "metadata": {},
   "source": [
    "## [Q5] Filter the `test_df` to rows where the IMDB Score is greater than 5"
   ]
  },
  {
   "cell_type": "code",
   "execution_count": null,
   "metadata": {},
   "outputs": [],
   "source": [
    "# Please complete the rest of this cell"
   ]
  },
  {
   "cell_type": "markdown",
   "metadata": {},
   "source": [
    "## [Q6] Filter the `test_df` to films from the USA"
   ]
  },
  {
   "cell_type": "code",
   "execution_count": null,
   "metadata": {},
   "outputs": [],
   "source": [
    "# Please complete the rest of this cell"
   ]
  },
  {
   "cell_type": "markdown",
   "metadata": {},
   "source": [
    "## You can use the following operators to combine conditions:\n",
    "- `&` to AND conditions together, e.g. The can was GREEN and CLOSED \n",
    "- `|` to OR conditions together, e.g. The person was from England or France (either is fine)\n",
    "- `~` to NEGATE any condition, e.g. The person was not from London\n",
    "- It's also useful to put conditions in brackets `(`to make sure things working in the right order`)`\n",
    "\n",
    "For example you could filter a `DataFrame` like so:\n",
    "\n",
    "`df[(df['age'] >= 18) & (df['height'] < 200)]`\n",
    "\n",
    "This one is a little harder...\n",
    "## [Q7] Filter the test_df to films which were made in the 1920s"
   ]
  },
  {
   "cell_type": "code",
   "execution_count": null,
   "metadata": {},
   "outputs": [],
   "source": [
    "# Please complete the rest of this cell"
   ]
  },
  {
   "cell_type": "markdown",
   "metadata": {},
   "source": [
    "## Getting a sense of the data you have to work with\n",
    "If you ever want to just get a numeric sense of the data in your `DataFrame` the `describe()` function is built for you!"
   ]
  },
  {
   "cell_type": "code",
   "execution_count": null,
   "metadata": {},
   "outputs": [],
   "source": [
    "test_df.describe()"
   ]
  },
  {
   "cell_type": "markdown",
   "metadata": {},
   "source": [
    "# Let's take a second to recap\n",
    "\n",
    "What you've learnt so far:\n",
    "- Pandas is a library that comes with lots of built-in tools for working with data\n",
    "- It provides several ways of previewing the data you are working with\n",
    "- You can filter columns by passing a sequence of column names\n",
    "- You can filter rows by applying conditions"
   ]
  },
  {
   "cell_type": "markdown",
   "metadata": {},
   "source": [
    "If we filter the original data to the following set we can see we are left with 44 rows and 25 columns"
   ]
  },
  {
   "cell_type": "code",
   "execution_count": null,
   "metadata": {},
   "outputs": [],
   "source": [
    "first_half_century_df = excel_df[excel_df.Year < 1950]\n",
    "first_half_century_df.shape"
   ]
  },
  {
   "cell_type": "markdown",
   "metadata": {},
   "source": [
    "Let's actually do some basic arithmetic with the data...\n",
    "\n",
    "## [Q8] What was the mean budget of movies produced before 1950\n",
    "\n",
    "- With the filtered `first_half_century_df`, work out the mean budget \n",
    "> (Hint: Use the Budget column itself)"
   ]
  },
  {
   "cell_type": "code",
   "execution_count": null,
   "metadata": {},
   "outputs": [],
   "source": [
    "# Please complete the rest of this cell"
   ]
  },
  {
   "cell_type": "markdown",
   "metadata": {},
   "source": [
    "## [Q9] What was the minimum budget of movies produced before 1950"
   ]
  },
  {
   "cell_type": "code",
   "execution_count": null,
   "metadata": {},
   "outputs": [],
   "source": [
    "# Please complete the rest of this cell"
   ]
  },
  {
   "cell_type": "markdown",
   "metadata": {},
   "source": [
    "## [Q10] What was the maximum budget of movies produced before 1950"
   ]
  },
  {
   "cell_type": "code",
   "execution_count": null,
   "metadata": {},
   "outputs": [],
   "source": [
    "# Please complete the rest of this cell"
   ]
  }
 ],
 "metadata": {
  "kernelspec": {
   "display_name": "Python 3",
   "language": "python",
   "name": "python3"
  },
  "language_info": {
   "codemirror_mode": {
    "name": "ipython",
    "version": 3
   },
   "file_extension": ".py",
   "mimetype": "text/x-python",
   "name": "python",
   "nbconvert_exporter": "python",
   "pygments_lexer": "ipython3",
   "version": "3.7.6"
  }
 },
 "nbformat": 4,
 "nbformat_minor": 2
}
